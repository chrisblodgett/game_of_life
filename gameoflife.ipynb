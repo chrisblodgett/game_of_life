{
 "cells": [
  {
   "cell_type": "markdown",
   "source": [
    "# Game of Life - the problem of self-replicating systems with cellular automation\n",
    "### created by John Horton Conway in 1970\n",
    "\n",
    "This is a zero player game, where the evolution is determined by some initial conditions and you get to observe how it evolves.\n",
    "It is 'Turing Complete' it can simulate a universal constructor or any other turing machine\n",
    " \n",
    "The world is an infinite grid of square cells each of which could be in two possible states live or dead (or if you wish populated and unpopulated)\n",
    "Every cell interacts with its eights neighbors, horizontally, vertically, and diagonally\n",
    "\n",
    "There are only 4 rules that govern everything-\n",
    "\n",
    "Any live cell with fewer than two live neighbors dies, as if by underpopulation.\n",
    "Any live cell with two or three live neighbors lives on to the next generation.\n",
    "Any live cell with more than three live neighbors dies, as if by overpopulation.\n",
    "Any dead cell with exactly three live neighbors becomes a live cell, as if by reproduction.\n",
    "\n",
    "the initial pattern constituters the seed of the system, first generation is created by applying the above rules simultaneously to every cell in the seed, live or dead, births and deaths occur simultaneously, during the discrete moement called a tick. The rules continue to be applied repeatedly to create further generations :) \n",
    "\n",
    "Before looking at my implementation below, I encourage you to program your own implementation, throughout the process you'll learn so much.\n",
    "\n",
    "It goes without saying that my world is not infiinite - I've made it so my boundary cells (outside_boundary variable) can either be all dead or all alive. When I first learned about this automation I was fasicnated and amazed on how such an interesting and dyamic system could be created from just four simple rules. I love the simplicity and beauty, I hope you will too. \n"
   ],
   "metadata": {
    "collapsed": false
   },
   "id": "4b64a708981a34e6"
  },
  {
   "cell_type": "code",
   "outputs": [],
   "source": [
    "import numpy as np\n",
    "import time\n",
    "\n",
    "tick_delay_main = 2 # our tick delay\n",
    "world_width_main, world_height_main = 20, 20 # we'll keep our world limited for, \n",
    "tick_life_main = 100\n",
    "outside_boundary = 0 # cells outside boundary considered what\n",
    "\n",
    "def apply_rules(cell, neighbors):\n",
    "    live_neighbors = neighbors.count(1)\n",
    "    if cell:  # cell is alive\n",
    "        if live_neighbors < 2:  #less than 2 live neighbors then dies :(\n",
    "            return 0\n",
    "        elif live_neighbors == 2 or live_neighbors == 3:  #2 or 3 live neighbors lives on :)\n",
    "            return 1\n",
    "        else:  # >3 live neighbors, dies from over popoulation :(\n",
    "            return 0\n",
    "    else:  # cell dead\n",
    "        if live_neighbors == 3:  #if 3 live neibhors then it becomes alive :)\n",
    "            return 1\n",
    "    return 0  # dead cells that don't have 3 live neighbors die\n",
    "\n",
    "def get_neighbors(cell, world_check):\n",
    "    #return a lsit of all 8 neighbors any neighbor off the world is classfiied as outside_boundary\n",
    "    row, col = cell[0], cell[1] #y,x  \n",
    "    neighbors = [] #list to store the aliveness of our 8 neighbors\n",
    "    bounding_cells = [[row+r-1,col+c-1] for r in range(3) for c in range(3) if (c*r!=1)] #the c*r!=1 is for that it doesn't count itself (cell) as a bounding\n",
    "    for bc in bounding_cells:\n",
    "        if 0<=bc[0]<world_check.shape[0] and 0<=bc[1]<world_check.shape[1]:# make sure we're inside the world :)    \n",
    "            neighbors.append(world_check[bc[0],bc[1]])\n",
    "        else:\n",
    "            neighbors.append(outside_boundary) # cells outside the world boundary (we could random this also) \n",
    "    return neighbors\n",
    "\n",
    "def game_loop(world_view, tick_delay, tick_life ):\n",
    "    for world_tick in range(tick_life):\n",
    "        world_buffer=world_view.copy()\n",
    "        stable=True\n",
    "        for r in range(world_view.shape[0]):\n",
    "            for c in range(world_view.shape[1]):\n",
    "                world_buffer[r,c] = apply_rules(world_view[r,c], get_neighbors((r,c), world_view)) # modify the world buffer according to rules applied on world_view\n",
    "                stable = (world_buffer[r,c]==world_view[r,c]) and stable # once it goes not stable stability cannot be restored \n",
    "        world_view=world_buffer.copy() # page swap :) \n",
    "        print(world_view) #print out the world_view\n",
    "        print(f'tick {world_tick} ** population {np.count_nonzero(world_view)} ** stable {stable}') # show some stats, stable means nothign is changing\n",
    "        time.sleep(tick_delay)\n",
    "        \n",
    "#create an all dead world     \n",
    "world_view_main = np.zeros((world_height_main, world_width_main), dtype=np.byte)\n",
    "#create a couple occilators that just keep repeating in place\n",
    "\n",
    "\n",
    "world_view_main[8,10]=world_view_main[9,10]=world_view_main[10,10]=1 #toad oscilator \n",
    "world_view_main[15,15]=world_view_main[15,16]=world_view_main[15,17]=world_view_main[16,14]=world_view_main[16,15]=world_view_main[16,16]=1 #toad oscilator \n",
    "\n",
    "game_loop(world_view_main,tick_delay_main,tick_life_main) #let's run our main game loop  \n",
    "\n"
   ],
   "metadata": {
    "collapsed": true
   },
   "id": "initial_id",
   "execution_count": null
  },
  {
   "cell_type": "code",
   "outputs": [],
   "source": [
    "\n"
   ],
   "metadata": {
    "collapsed": false
   },
   "id": "fb98347e4537ff47"
  }
 ],
 "metadata": {
  "kernelspec": {
   "display_name": "Python 3",
   "language": "python",
   "name": "python3"
  },
  "language_info": {
   "codemirror_mode": {
    "name": "ipython",
    "version": 2
   },
   "file_extension": ".py",
   "mimetype": "text/x-python",
   "name": "python",
   "nbconvert_exporter": "python",
   "pygments_lexer": "ipython2",
   "version": "2.7.6"
  }
 },
 "nbformat": 4,
 "nbformat_minor": 5
}
